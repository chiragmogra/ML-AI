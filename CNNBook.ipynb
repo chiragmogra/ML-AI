{
  "nbformat": 4,
  "nbformat_minor": 0,
  "metadata": {
    "colab": {
      "name": "CNNBook.ipynb",
      "version": "0.3.2",
      "provenance": [],
      "collapsed_sections": [],
      "include_colab_link": true
    },
    "kernelspec": {
      "name": "python3",
      "display_name": "Python 3"
    },
    "accelerator": "GPU"
  },
  "cells": [
    {
      "cell_type": "markdown",
      "metadata": {
        "id": "view-in-github",
        "colab_type": "text"
      },
      "source": [
        "<a href=\"https://colab.research.google.com/github/chiragmogra/ML-AI/blob/master/CNNBook.ipynb\" target=\"_parent\"><img src=\"https://colab.research.google.com/assets/colab-badge.svg\" alt=\"Open In Colab\"/></a>"
      ]
    },
    {
      "cell_type": "code",
      "metadata": {
        "id": "t8EE3gz5QKYk",
        "colab_type": "code",
        "colab": {}
      },
      "source": [
        "# importing all the modules for required for CNN creation\n",
        "import keras"
      ],
      "execution_count": 0,
      "outputs": []
    },
    {
      "cell_type": "code",
      "metadata": {
        "id": "9-Oy5jdUXUKx",
        "colab_type": "code",
        "colab": {}
      },
      "source": [
        "# convolution model\n",
        "from keras.layers import Convolution2D"
      ],
      "execution_count": 0,
      "outputs": []
    },
    {
      "cell_type": "code",
      "metadata": {
        "id": "KwWIbdtPX4mb",
        "colab_type": "code",
        "colab": {}
      },
      "source": [
        "# max polling\n",
        "from keras.layers import MaxPool2D"
      ],
      "execution_count": 0,
      "outputs": []
    },
    {
      "cell_type": "code",
      "metadata": {
        "id": "KrxlR7i1YE-m",
        "colab_type": "code",
        "colab": {}
      },
      "source": [
        "# flatenning\n",
        "from keras.layers import Flatten"
      ],
      "execution_count": 0,
      "outputs": []
    },
    {
      "cell_type": "code",
      "metadata": {
        "id": "Mmdqitg3YOru",
        "colab_type": "code",
        "colab": {}
      },
      "source": [
        "# ANN importing\n",
        "from keras.models import Sequential\n",
        "from keras.layers import Dense"
      ],
      "execution_count": 0,
      "outputs": []
    },
    {
      "cell_type": "code",
      "metadata": {
        "id": "3xPcqWhJYivd",
        "colab_type": "code",
        "colab": {}
      },
      "source": [
        "# Classifier model \n",
        "model=Sequential()"
      ],
      "execution_count": 0,
      "outputs": []
    },
    {
      "cell_type": "code",
      "metadata": {
        "id": "jWucWFmIY2Fb",
        "colab_type": "code",
        "outputId": "dc48188a-bc38-4f55-9882-642f65509902",
        "colab": {
          "base_uri": "https://localhost:8080/",
          "height": 70
        }
      },
      "source": [
        "# creating convolution layer under model namespace\n",
        "model.add(Convolution2D(64,3,3,activation='relu',input_shape=(128,128,3)))\n",
        "# no of feature extract from original image during convolution -- 3,3  -- activation , image dimension\n",
        "# when outcomes will be generated that will lead to feature maps"
      ],
      "execution_count": 0,
      "outputs": [
        {
          "output_type": "stream",
          "text": [
            "/usr/local/lib/python3.6/dist-packages/ipykernel_launcher.py:1: UserWarning: Update your `Conv2D` call to the Keras 2 API: `Conv2D(64, (3, 3), activation=\"relu\", input_shape=(128, 128,...)`\n",
            "  \"\"\"Entry point for launching an IPython kernel.\n"
          ],
          "name": "stderr"
        }
      ]
    },
    {
      "cell_type": "code",
      "metadata": {
        "id": "lv3Qkr1bainM",
        "colab_type": "code",
        "colab": {}
      },
      "source": [
        "# Now we can apply max polling in feature maps\n",
        "model.add(MaxPool2D(pool_size=(2,2)))"
      ],
      "execution_count": 0,
      "outputs": []
    },
    {
      "cell_type": "code",
      "metadata": {
        "id": "SrPElHYud4aa",
        "colab_type": "code",
        "colab": {}
      },
      "source": [
        "# here output will be subobject\n",
        "# then we can apply flatenning\n",
        "model.add(Flatten())   # we don't have to supply any para --  --bcz data set columns convert so that we can use this as input of ANN "
      ],
      "execution_count": 0,
      "outputs": []
    },
    {
      "cell_type": "code",
      "metadata": {
        "id": "7xq_SClfixUS",
        "colab_type": "code",
        "colab": {}
      },
      "source": [
        "# Now we can give flatten output to input as ANN\n",
        "model.add(Dense(120,activation='relu'))"
      ],
      "execution_count": 0,
      "outputs": []
    },
    {
      "cell_type": "code",
      "metadata": {
        "id": "fN6p8k_cjg6D",
        "colab_type": "code",
        "colab": {}
      },
      "source": [
        "# output layer\n",
        "model.add(Dense(1,activation='sigmoid'))"
      ],
      "execution_count": 0,
      "outputs": []
    },
    {
      "cell_type": "code",
      "metadata": {
        "id": "vys1JYjgk0qD",
        "colab_type": "code",
        "colab": {}
      },
      "source": [
        "from keras.preprocessing.image import ImageDataGenerator"
      ],
      "execution_count": 0,
      "outputs": []
    },
    {
      "cell_type": "code",
      "metadata": {
        "id": "2lmOT6YYlvSE",
        "colab_type": "code",
        "colab": {}
      },
      "source": [
        "train_datagen = ImageDataGenerator(\n",
        "        rescale=1./255,\n",
        "        shear_range=0.2,\n",
        "        zoom_range=0.2,\n",
        "        horizontal_flip=True)\n",
        "\n",
        "test_datagen = ImageDataGenerator(rescale=1./255)\n",
        "\n",
        "train_generator = train_datagen.flow_from_directory(\n",
        "        'data/train',\n",
        "        target_size=(150, 150),\n",
        "        batch_size=32,\n",
        "        class_mode='binary')\n",
        "\n",
        "validation_generator = test_datagen.flow_from_directory(\n",
        "        'data/validation',\n",
        "        target_size=(150, 150),\n",
        "        batch_size=32,\n",
        "        class_mode='binary')\n",
        "\n",
        "model.fit_generator(\n",
        "        train_generator,\n",
        "        steps_per_epoch=2000,\n",
        "        epochs=50,\n",
        "        validation_data=validation_generator,\n",
        "        validation_steps=800)"
      ],
      "execution_count": 0,
      "outputs": []
    }
  ]
}