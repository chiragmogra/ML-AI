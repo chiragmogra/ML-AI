{
  "nbformat": 4,
  "nbformat_minor": 0,
  "metadata": {
    "colab": {
      "name": "Lemmatize.ipynb",
      "version": "0.3.2",
      "provenance": [],
      "include_colab_link": true
    },
    "kernelspec": {
      "name": "python3",
      "display_name": "Python 3"
    }
  },
  "cells": [
    {
      "cell_type": "markdown",
      "metadata": {
        "id": "view-in-github",
        "colab_type": "text"
      },
      "source": [
        "<a href=\"https://colab.research.google.com/github/chiragmogra/ML-AI/blob/master/Lemmatize.ipynb\" target=\"_parent\"><img src=\"https://colab.research.google.com/assets/colab-badge.svg\" alt=\"Open In Colab\"/></a>"
      ]
    },
    {
      "cell_type": "code",
      "metadata": {
        "id": "H8FEkB17ed7A",
        "colab_type": "code",
        "colab": {}
      },
      "source": [
        "import spacy"
      ],
      "execution_count": 0,
      "outputs": []
    },
    {
      "cell_type": "code",
      "metadata": {
        "id": "tFJs-upKejWz",
        "colab_type": "code",
        "colab": {}
      },
      "source": [
        "# Language english\n",
        "nlp=spacy.load('en')"
      ],
      "execution_count": 0,
      "outputs": []
    },
    {
      "cell_type": "code",
      "metadata": {
        "id": "Doepn7U0euU6",
        "colab_type": "code",
        "colab": {}
      },
      "source": [
        "data=\"Hello everyone , I am Chirag Mogra. I am going to play cricket\""
      ],
      "execution_count": 0,
      "outputs": []
    },
    {
      "cell_type": "code",
      "metadata": {
        "id": "L4hVXtetfNFF",
        "colab_type": "code",
        "colab": {}
      },
      "source": [
        "new_data=nlp(data)"
      ],
      "execution_count": 0,
      "outputs": []
    },
    {
      "cell_type": "code",
      "metadata": {
        "id": "cFzqfzdDfQzZ",
        "colab_type": "code",
        "outputId": "aa165fdf-0735-4a91-9a71-f0539cf2d1d6",
        "colab": {
          "base_uri": "https://localhost:8080/",
          "height": 985
        }
      },
      "source": [
        "for i in new_data:\n",
        "  print(i,\"   Lemmatization of word is -->\",i.lemma_)\n",
        "  print(\"########################################\")\n",
        "  print(i,\"  POS\",i.pos_,\"\\n\")"
      ],
      "execution_count": 0,
      "outputs": [
        {
          "output_type": "stream",
          "text": [
            "Hello    Lemmatization of word is --> hello\n",
            "########################################\n",
            "Hello   POS INTJ \n",
            "\n",
            "everyone    Lemmatization of word is --> everyone\n",
            "########################################\n",
            "everyone   POS NOUN \n",
            "\n",
            ",    Lemmatization of word is --> ,\n",
            "########################################\n",
            ",   POS PUNCT \n",
            "\n",
            "I    Lemmatization of word is --> -PRON-\n",
            "########################################\n",
            "I   POS PRON \n",
            "\n",
            "am    Lemmatization of word is --> be\n",
            "########################################\n",
            "am   POS VERB \n",
            "\n",
            "Chirag    Lemmatization of word is --> Chirag\n",
            "########################################\n",
            "Chirag   POS PROPN \n",
            "\n",
            "Mogra    Lemmatization of word is --> Mogra\n",
            "########################################\n",
            "Mogra   POS PROPN \n",
            "\n",
            ".    Lemmatization of word is --> .\n",
            "########################################\n",
            ".   POS PUNCT \n",
            "\n",
            "I    Lemmatization of word is --> -PRON-\n",
            "########################################\n",
            "I   POS PRON \n",
            "\n",
            "am    Lemmatization of word is --> be\n",
            "########################################\n",
            "am   POS VERB \n",
            "\n",
            "going    Lemmatization of word is --> go\n",
            "########################################\n",
            "going   POS VERB \n",
            "\n",
            "to    Lemmatization of word is --> to\n",
            "########################################\n",
            "to   POS PART \n",
            "\n",
            "play    Lemmatization of word is --> play\n",
            "########################################\n",
            "play   POS VERB \n",
            "\n",
            "cricket    Lemmatization of word is --> cricket\n",
            "########################################\n",
            "cricket   POS NOUN \n",
            "\n"
          ],
          "name": "stdout"
        }
      ]
    },
    {
      "cell_type": "code",
      "metadata": {
        "id": "W3SV7Uxfft90",
        "colab_type": "code",
        "colab": {}
      },
      "source": [
        ""
      ],
      "execution_count": 0,
      "outputs": []
    }
  ]
}