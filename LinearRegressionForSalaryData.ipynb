{
  "nbformat": 4,
  "nbformat_minor": 0,
  "metadata": {
    "colab": {
      "name": "LinearRegressionForSalaryData.ipynb",
      "version": "0.3.2",
      "provenance": [],
      "collapsed_sections": [],
      "include_colab_link": true
    },
    "kernelspec": {
      "name": "python3",
      "display_name": "Python 3"
    }
  },
  "cells": [
    {
      "cell_type": "markdown",
      "metadata": {
        "id": "view-in-github",
        "colab_type": "text"
      },
      "source": [
        "<a href=\"https://colab.research.google.com/github/chiragmogra/ML-AI_assignments/blob/master/LinearRegressionForSalaryData.ipynb\" target=\"_parent\"><img src=\"https://colab.research.google.com/assets/colab-badge.svg\" alt=\"Open In Colab\"/></a>"
      ]
    },
    {
      "cell_type": "code",
      "metadata": {
        "id": "RI4jJArP6Evv",
        "colab_type": "code",
        "colab": {}
      },
      "source": [
        "import pandas as pd\n",
        "import matplotlib.pyplot as plt"
      ],
      "execution_count": 0,
      "outputs": []
    },
    {
      "cell_type": "code",
      "metadata": {
        "id": "iWFaPU_a6GLP",
        "colab_type": "code",
        "colab": {}
      },
      "source": [
        "# Load CSV\n",
        "df=pd.read_csv('http://13.234.66.67/summer19/datasets/salary.csv')"
      ],
      "execution_count": 0,
      "outputs": []
    },
    {
      "cell_type": "code",
      "metadata": {
        "id": "SpfX-PVr7B-t",
        "colab_type": "code",
        "colab": {
          "base_uri": "https://localhost:8080/",
          "height": 134
        },
        "outputId": "7efaa9ee-6578-48ff-f367-9858c5b1a6d5"
      },
      "source": [
        "# Schema\n",
        "df.info()"
      ],
      "execution_count": 3,
      "outputs": [
        {
          "output_type": "stream",
          "text": [
            "<class 'pandas.core.frame.DataFrame'>\n",
            "RangeIndex: 30 entries, 0 to 29\n",
            "Data columns (total 2 columns):\n",
            "YearsExperience    30 non-null float64\n",
            "Salary             30 non-null float64\n",
            "dtypes: float64(2)\n",
            "memory usage: 560.0 bytes\n"
          ],
          "name": "stdout"
        }
      ]
    },
    {
      "cell_type": "markdown",
      "metadata": {
        "id": "gUOHFEqh7G4R",
        "colab_type": "text"
      },
      "source": [
        "Salary =b0+b1*experience"
      ]
    },
    {
      "cell_type": "code",
      "metadata": {
        "id": "NYJlz4oI7f_C",
        "colab_type": "code",
        "colab": {
          "base_uri": "https://localhost:8080/",
          "height": 195
        },
        "outputId": "4681de7d-b7e0-4149-8492-2e23c4a1ff18"
      },
      "source": [
        "df.head()"
      ],
      "execution_count": 4,
      "outputs": [
        {
          "output_type": "execute_result",
          "data": {
            "text/html": [
              "<div>\n",
              "<style scoped>\n",
              "    .dataframe tbody tr th:only-of-type {\n",
              "        vertical-align: middle;\n",
              "    }\n",
              "\n",
              "    .dataframe tbody tr th {\n",
              "        vertical-align: top;\n",
              "    }\n",
              "\n",
              "    .dataframe thead th {\n",
              "        text-align: right;\n",
              "    }\n",
              "</style>\n",
              "<table border=\"1\" class=\"dataframe\">\n",
              "  <thead>\n",
              "    <tr style=\"text-align: right;\">\n",
              "      <th></th>\n",
              "      <th>YearsExperience</th>\n",
              "      <th>Salary</th>\n",
              "    </tr>\n",
              "  </thead>\n",
              "  <tbody>\n",
              "    <tr>\n",
              "      <th>0</th>\n",
              "      <td>1.1</td>\n",
              "      <td>39343.0</td>\n",
              "    </tr>\n",
              "    <tr>\n",
              "      <th>1</th>\n",
              "      <td>1.3</td>\n",
              "      <td>46205.0</td>\n",
              "    </tr>\n",
              "    <tr>\n",
              "      <th>2</th>\n",
              "      <td>1.5</td>\n",
              "      <td>37731.0</td>\n",
              "    </tr>\n",
              "    <tr>\n",
              "      <th>3</th>\n",
              "      <td>2.0</td>\n",
              "      <td>43525.0</td>\n",
              "    </tr>\n",
              "    <tr>\n",
              "      <th>4</th>\n",
              "      <td>2.2</td>\n",
              "      <td>39891.0</td>\n",
              "    </tr>\n",
              "  </tbody>\n",
              "</table>\n",
              "</div>"
            ],
            "text/plain": [
              "   YearsExperience   Salary\n",
              "0              1.1  39343.0\n",
              "1              1.3  46205.0\n",
              "2              1.5  37731.0\n",
              "3              2.0  43525.0\n",
              "4              2.2  39891.0"
            ]
          },
          "metadata": {
            "tags": []
          },
          "execution_count": 4
        }
      ]
    },
    {
      "cell_type": "code",
      "metadata": {
        "id": "3rSFsegj7Oar",
        "colab_type": "code",
        "colab": {
          "base_uri": "https://localhost:8080/",
          "height": 34
        },
        "outputId": "d74b2e32-f6e3-4722-f025-55d51c8e3704"
      },
      "source": [
        "# experience that we are going to user as input of training data\n",
        "exp=df.iloc[:,0:1].values\n",
        "exp.shape"
      ],
      "execution_count": 27,
      "outputs": [
        {
          "output_type": "execute_result",
          "data": {
            "text/plain": [
              "(30, 1)"
            ]
          },
          "metadata": {
            "tags": []
          },
          "execution_count": 27
        }
      ]
    },
    {
      "cell_type": "code",
      "metadata": {
        "id": "F23jr7kF7ub-",
        "colab_type": "code",
        "colab": {
          "base_uri": "https://localhost:8080/",
          "height": 34
        },
        "outputId": "e62e484d-6c78-4379-8228-ec6aa48d39d3"
      },
      "source": [
        "sal=df.iloc[:,1:].values\n",
        "sal.shape"
      ],
      "execution_count": 26,
      "outputs": [
        {
          "output_type": "execute_result",
          "data": {
            "text/plain": [
              "(30, 1)"
            ]
          },
          "metadata": {
            "tags": []
          },
          "execution_count": 26
        }
      ]
    },
    {
      "cell_type": "code",
      "metadata": {
        "id": "6IFTJexB7yt0",
        "colab_type": "code",
        "colab": {
          "base_uri": "https://localhost:8080/",
          "height": 521
        },
        "outputId": "e02e3edf-3cd2-4fad-ebaf-0541b6c19c94"
      },
      "source": [
        "exp"
      ],
      "execution_count": 28,
      "outputs": [
        {
          "output_type": "execute_result",
          "data": {
            "text/plain": [
              "array([[ 1.1],\n",
              "       [ 1.3],\n",
              "       [ 1.5],\n",
              "       [ 2. ],\n",
              "       [ 2.2],\n",
              "       [ 2.9],\n",
              "       [ 3. ],\n",
              "       [ 3.2],\n",
              "       [ 3.2],\n",
              "       [ 3.7],\n",
              "       [ 3.9],\n",
              "       [ 4. ],\n",
              "       [ 4. ],\n",
              "       [ 4.1],\n",
              "       [ 4.5],\n",
              "       [ 4.9],\n",
              "       [ 5.1],\n",
              "       [ 5.3],\n",
              "       [ 5.9],\n",
              "       [ 6. ],\n",
              "       [ 6.8],\n",
              "       [ 7.1],\n",
              "       [ 7.9],\n",
              "       [ 8.2],\n",
              "       [ 8.7],\n",
              "       [ 9. ],\n",
              "       [ 9.5],\n",
              "       [ 9.6],\n",
              "       [10.3],\n",
              "       [10.5]])"
            ]
          },
          "metadata": {
            "tags": []
          },
          "execution_count": 28
        }
      ]
    },
    {
      "cell_type": "code",
      "metadata": {
        "id": "0gSsgGRY7z1m",
        "colab_type": "code",
        "colab": {
          "base_uri": "https://localhost:8080/",
          "height": 521
        },
        "outputId": "ae2ac9f6-9e1b-4ca5-bde0-3d2a49e3fb41"
      },
      "source": [
        "sal"
      ],
      "execution_count": 29,
      "outputs": [
        {
          "output_type": "execute_result",
          "data": {
            "text/plain": [
              "array([[ 39343.],\n",
              "       [ 46205.],\n",
              "       [ 37731.],\n",
              "       [ 43525.],\n",
              "       [ 39891.],\n",
              "       [ 56642.],\n",
              "       [ 60150.],\n",
              "       [ 54445.],\n",
              "       [ 64445.],\n",
              "       [ 57189.],\n",
              "       [ 63218.],\n",
              "       [ 55794.],\n",
              "       [ 56957.],\n",
              "       [ 57081.],\n",
              "       [ 61111.],\n",
              "       [ 67938.],\n",
              "       [ 66029.],\n",
              "       [ 83088.],\n",
              "       [ 81363.],\n",
              "       [ 93940.],\n",
              "       [ 91738.],\n",
              "       [ 98273.],\n",
              "       [101302.],\n",
              "       [113812.],\n",
              "       [109431.],\n",
              "       [105582.],\n",
              "       [116969.],\n",
              "       [112635.],\n",
              "       [122391.],\n",
              "       [121872.]])"
            ]
          },
          "metadata": {
            "tags": []
          },
          "execution_count": 29
        }
      ]
    },
    {
      "cell_type": "code",
      "metadata": {
        "id": "MbrKHW3W70OX",
        "colab_type": "code",
        "colab": {
          "base_uri": "https://localhost:8080/",
          "height": 283
        },
        "outputId": "f8432fa7-cc8a-4f9e-fe4e-7a45cd680d81"
      },
      "source": [
        "# Now we can visualize this experience and salary data\n",
        "plt.xlabel('experience')\n",
        "plt.ylabel('salary')\n",
        "plt.scatter(exp,sal)\n",
        "plt.show()"
      ],
      "execution_count": 30,
      "outputs": [
        {
          "output_type": "display_data",
          "data": {
            "image/png": "[encoded data removed]",
            "text/plain": [
              "<Figure size 432x288 with 1 Axes>"
            ]
          },
          "metadata": {
            "tags": []
          }
        }
      ]
    },
    {
      "cell_type": "code",
      "metadata": {
        "id": "0Jk6xv378KNO",
        "colab_type": "code",
        "colab": {}
      },
      "source": [
        "# calling linear regression model\n",
        "from sklearn.linear_model import LinearRegression\n"
      ],
      "execution_count": 0,
      "outputs": []
    },
    {
      "cell_type": "code",
      "metadata": {
        "id": "yQ5gHI8E8wSf",
        "colab_type": "code",
        "colab": {}
      },
      "source": [
        "# Model creation\n",
        "regr=LinearRegression()"
      ],
      "execution_count": 0,
      "outputs": []
    },
    {
      "cell_type": "code",
      "metadata": {
        "id": "ycT5Wc9L839N",
        "colab_type": "code",
        "colab": {}
      },
      "source": [
        "# Fitting exp and salary\n",
        "trained=regr.fit(exp,sal)"
      ],
      "execution_count": 0,
      "outputs": []
    },
    {
      "cell_type": "code",
      "metadata": {
        "id": "MlQvA3y39bv6",
        "colab_type": "code",
        "colab": {
          "base_uri": "https://localhost:8080/",
          "height": 34
        },
        "outputId": "ea61805f-666d-48a9-c171-d1db02b0e534"
      },
      "source": [
        "# Actual Salary\n",
        "trained"
      ],
      "execution_count": 34,
      "outputs": [
        {
          "output_type": "execute_result",
          "data": {
            "text/plain": [
              "LinearRegression(copy_X=True, fit_intercept=True, n_jobs=None, normalize=False)"
            ]
          },
          "metadata": {
            "tags": []
          },
          "execution_count": 34
        }
      ]
    },
    {
      "cell_type": "code",
      "metadata": {
        "id": "1IV2-_Bp9-hP",
        "colab_type": "code",
        "colab": {
          "base_uri": "https://localhost:8080/",
          "height": 283
        },
        "outputId": "dc355db1-1b4f-4833-c7a1-c1e1ea951133"
      },
      "source": [
        "# Predicted salary \n",
        "plt.xlabel('experience')\n",
        "plt.ylabel('salary')\n",
        "plt.scatter(exp,sal,label=\"Actual data as per experiance\")\n",
        "plt.plot(exp,trained.predict(exp),label=\"Predicted salary\")\n",
        "plt.legend()\n",
        "plt.show()"
      ],
      "execution_count": 38,
      "outputs": [
        {
          "output_type": "display_data",
          "data": {
            "image/png": "[encoded data removed]",
            "text/plain": [
              "<Figure size 432x288 with 1 Axes>"
            ]
          },
          "metadata": {
            "tags": []
          }
        }
      ]
    },
    {
      "cell_type": "code",
      "metadata": {
        "id": "vf-JggPk-Wic",
        "colab_type": "code",
        "colab": {}
      },
      "source": [
        ""
      ],
      "execution_count": 0,
      "outputs": []
    }
  ]
}