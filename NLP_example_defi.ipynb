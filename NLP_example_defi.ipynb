{
  "nbformat": 4,
  "nbformat_minor": 0,
  "metadata": {
    "colab": {
      "name": "NLP_example_defi.ipynb",
      "version": "0.3.2",
      "provenance": [],
      "include_colab_link": true
    },
    "kernelspec": {
      "name": "python3",
      "display_name": "Python 3"
    }
  },
  "cells": [
    {
      "cell_type": "markdown",
      "metadata": {
        "id": "view-in-github",
        "colab_type": "text"
      },
      "source": [
        "<a href=\"https://colab.research.google.com/github/chiragmogra/ML-AI/blob/master/NLP_example_defi.ipynb\" target=\"_parent\"><img src=\"https://colab.research.google.com/assets/colab-badge.svg\" alt=\"Open In Colab\"/></a>"
      ]
    },
    {
      "cell_type": "code",
      "metadata": {
        "id": "v7Q6UP0ehXPE",
        "colab_type": "code",
        "colab": {}
      },
      "source": [
        "from nltk.corpus import wordnet\n",
        "import time"
      ],
      "execution_count": 0,
      "outputs": []
    },
    {
      "cell_type": "code",
      "metadata": {
        "id": "000HGaJfhcOh",
        "colab_type": "code",
        "colab": {}
      },
      "source": [
        "ws=wordnet.synsets('work')     # lemma word pass"
      ],
      "execution_count": 0,
      "outputs": []
    },
    {
      "cell_type": "code",
      "metadata": {
        "id": "PzzvIpIkhmXt",
        "colab_type": "code",
        "outputId": "93094cf4-fd9f-43c2-829b-f4171b986403",
        "colab": {
          "base_uri": "https://localhost:8080/",
          "height": 34
        }
      },
      "source": [
        "len(ws)"
      ],
      "execution_count": 0,
      "outputs": [
        {
          "output_type": "execute_result",
          "data": {
            "text/plain": [
              "34"
            ]
          },
          "metadata": {
            "tags": []
          },
          "execution_count": 3
        }
      ]
    },
    {
      "cell_type": "code",
      "metadata": {
        "id": "0LEpoUFXhn6T",
        "colab_type": "code",
        "outputId": "33df2a1e-56d5-4e1e-a69b-1c25ae5f9269",
        "colab": {
          "base_uri": "https://localhost:8080/",
          "height": 34
        }
      },
      "source": [
        "ws[0].definition()"
      ],
      "execution_count": 0,
      "outputs": [
        {
          "output_type": "execute_result",
          "data": {
            "text/plain": [
              "'activity directed toward making or doing something'"
            ]
          },
          "metadata": {
            "tags": []
          },
          "execution_count": 8
        }
      ]
    },
    {
      "cell_type": "code",
      "metadata": {
        "id": "d548sdvOhuSX",
        "colab_type": "code",
        "outputId": "ebd0dffc-e938-4eff-b79e-2edd17e20c3e",
        "colab": {
          "base_uri": "https://localhost:8080/",
          "height": 34
        }
      },
      "source": [
        "ws[1].definition()"
      ],
      "execution_count": 0,
      "outputs": [
        {
          "output_type": "execute_result",
          "data": {
            "text/plain": [
              "'a product produced or accomplished through the effort or activity or agency of a person or thing'"
            ]
          },
          "metadata": {
            "tags": []
          },
          "execution_count": 10
        }
      ]
    },
    {
      "cell_type": "code",
      "metadata": {
        "id": "4fzPDIjKh9a_",
        "colab_type": "code",
        "outputId": "2b068a73-e790-45cd-eaf2-596e6a39ea12",
        "colab": {
          "base_uri": "https://localhost:8080/",
          "height": 34
        }
      },
      "source": [
        "ws[0].examples()"
      ],
      "execution_count": 0,
      "outputs": [
        {
          "output_type": "execute_result",
          "data": {
            "text/plain": [
              "['she checked several points needing further work']"
            ]
          },
          "metadata": {
            "tags": []
          },
          "execution_count": 11
        }
      ]
    },
    {
      "cell_type": "code",
      "metadata": {
        "id": "ziqzJ_GgiD49",
        "colab_type": "code",
        "outputId": "e57f0521-3cfb-428f-a6fa-8a502df38411",
        "colab": {
          "base_uri": "https://localhost:8080/",
          "height": 104
        }
      },
      "source": [
        "ws[1].examples()"
      ],
      "execution_count": 0,
      "outputs": [
        {
          "output_type": "execute_result",
          "data": {
            "text/plain": [
              "['it is not regarded as one of his more memorable works',\n",
              " 'the symphony was hailed as an ingenious work',\n",
              " 'he was indebted to the pioneering work of John Dewey',\n",
              " 'the work of an active imagination',\n",
              " 'erosion is the work of wind or water over time']"
            ]
          },
          "metadata": {
            "tags": []
          },
          "execution_count": 13
        }
      ]
    },
    {
      "cell_type": "code",
      "metadata": {
        "id": "9ng68wS0iIJI",
        "colab_type": "code",
        "outputId": "1e68f0a8-0018-4738-827f-ff112406d8fc",
        "colab": {
          "base_uri": "https://localhost:8080/",
          "height": 1000
        }
      },
      "source": [
        "# exploring all the book\n",
        "msg=input(\"Enter your key word you want to know about :-- \")\n",
        "for i in wordnet.synsets(msg):\n",
        "  print(i.definition())\n",
        "  print(\"-------------------\")\n",
        "  print(i.examples())\n",
        "  time.sleep(1)"
      ],
      "execution_count": 0,
      "outputs": [
        {
          "output_type": "stream",
          "text": [
            "Enter your key word you want to know about :-- gone\n",
            "change location; move, travel, or proceed, also metaphorically\n",
            "-------------------\n",
            "['How fast does your new car go?', 'We travelled from Rome to Naples by bus', 'The policemen went from door to door looking for the suspect', 'The soldiers moved towards the city in an attempt to take it before night fell', 'news travelled fast']\n",
            "follow a procedure or take a course\n",
            "-------------------\n",
            "['We should go farther in this matter', 'She went through a lot of trouble', 'go about the world in a certain manner', 'Messages must go through diplomatic channels']\n",
            "move away from a place into another direction\n",
            "-------------------\n",
            "['Go away before I start to cry', 'The train departs at noon']\n",
            "enter or assume a certain state or condition\n",
            "-------------------\n",
            "['He became annoyed when he heard the bad news', 'It must be getting more serious', 'her face went red with anger', 'She went into ecstasy', 'Get going!']\n",
            "be awarded; be allotted\n",
            "-------------------\n",
            "['The first prize goes to Mary', 'Her money went on clothes']\n",
            "have a particular form\n",
            "-------------------\n",
            "['the story or argument runs as follows', 'as the saying goes...']\n",
            "stretch out over a distance, space, time, or scope; run or extend between two points or beyond a certain point\n",
            "-------------------\n",
            "['Service runs all the way to Cranbury', \"His knowledge doesn't go very far\", 'My memory extends back to my fourth year of life', 'The facts extend beyond a consideration of her personal assets']\n",
            "follow a certain course\n",
            "-------------------\n",
            "['The inauguration went well', 'how did your interview go?']\n",
            "be abolished or discarded\n",
            "-------------------\n",
            "['These ugly billboards have to go!', 'These luxuries all had to go under the Khmer Rouge']\n",
            "be or continue to be in a certain condition\n",
            "-------------------\n",
            "['The children went hungry that day']\n",
            "make a certain noise or sound\n",
            "-------------------\n",
            "[\"She went `Mmmmm'\", \"The gun went `bang'\"]\n",
            "perform as expected when applied\n",
            "-------------------\n",
            "[\"The washing machine won't go unless it's plugged in\", 'Does this old car still run well?', \"This old radio doesn't work anymore\"]\n",
            "to be spent or finished\n",
            "-------------------\n",
            "['The money had gone after a few days', 'Gas is running low at the gas stations in the Midwest']\n",
            "progress by being changed\n",
            "-------------------\n",
            "['The speech has to go through several more drafts', 'run through your presentation before the meeting']\n",
            "continue to live through hardship or adversity\n",
            "-------------------\n",
            "['We went without water and food for 3 days', 'These superstitions survive in the backwaters of America', 'The race car driver lived through several very serious accidents', 'how long can a person last without food and water?']\n",
            "pass, fare, or elapse; of a certain state of affairs or action\n",
            "-------------------\n",
            "['How is it going?', 'The day went well until I got your call']\n",
            "pass from physical life and lose all bodily attributes and functions necessary to sustain life\n",
            "-------------------\n",
            "['She died from cancer', 'The children perished in the fire', 'The patient went peacefully', 'The old guy kicked the bucket at the age of 102']\n",
            "be in the right place or situation\n",
            "-------------------\n",
            "['Where do these books belong?', \"Let's put health care where it belongs--under the control of the government\", 'Where do these books go?']\n",
            "be ranked or compare\n",
            "-------------------\n",
            "['This violinist is as good as Juilliard-trained violinists go']\n",
            "begin or set in motion\n",
            "-------------------\n",
            "['I start at eight in the morning', 'Ready, set, go!']\n",
            "have a turn; make one's move in a game\n",
            "-------------------\n",
            "['Can I go now?']\n",
            "be contained in\n",
            "-------------------\n",
            "['How many times does 18 go into 54?']\n",
            "be sounded, played, or expressed\n",
            "-------------------\n",
            "['How does this song go again?']\n",
            "blend or harmonize\n",
            "-------------------\n",
            "['This flavor will blend with those in your dish', \"This sofa won't go with the chairs\"]\n",
            "lead, extend, or afford access\n",
            "-------------------\n",
            "['This door goes to the basement', 'The road runs South']\n",
            "be the right size or shape; fit correctly or as desired\n",
            "-------------------\n",
            "[\"This piece won't fit into the puzzle\"]\n",
            "go through in search of something; search through someone's belongings in an unauthorized way\n",
            "-------------------\n",
            "['Who rifled through my desk drawers?']\n",
            "be spent\n",
            "-------------------\n",
            "['All my money went for food and rent']\n",
            "give support (to) or make a choice (of) one out of a group or number\n",
            "-------------------\n",
            "['I plumped for the losing candidates']\n",
            "stop operating or functioning\n",
            "-------------------\n",
            "['The engine finally went', 'The car died on the road', 'The bus we travelled in broke down on the way to town', 'The coffee maker broke', 'The engine failed on the way to town', 'her eyesight went after the accident']\n",
            "destroyed or killed\n",
            "-------------------\n",
            "['we are gone geese']\n",
            "dead\n",
            "-------------------\n",
            "['he is deceased', 'our dear departed friend']\n",
            "well in the past; former\n",
            "-------------------\n",
            "['bygone days', 'dreams of foregone times', 'sweet memories of gone summers', 'relics of a departed era']\n",
            "no longer retained\n",
            "-------------------\n",
            "['gone with the wind']\n"
          ],
          "name": "stdout"
        }
      ]
    },
    {
      "cell_type": "code",
      "metadata": {
        "id": "HSTHiWF0jDdS",
        "colab_type": "code",
        "colab": {}
      },
      "source": [
        ""
      ],
      "execution_count": 0,
      "outputs": []
    }
  ]
}