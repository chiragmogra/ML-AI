{
  "nbformat": 4,
  "nbformat_minor": 0,
  "metadata": {
    "colab": {
      "name": "SVM.ipynb",
      "version": "0.3.2",
      "provenance": [],
      "include_colab_link": true
    },
    "kernelspec": {
      "name": "python3",
      "display_name": "Python 3"
    }
  },
  "cells": [
    {
      "cell_type": "markdown",
      "metadata": {
        "id": "view-in-github",
        "colab_type": "text"
      },
      "source": [
        "<a href=\"https://colab.research.google.com/github/chiragmogra/ML-AI_assignments/blob/master/SVM.ipynb\" target=\"_parent\"><img src=\"https://colab.research.google.com/assets/colab-badge.svg\" alt=\"Open In Colab\"/></a>"
      ]
    },
    {
      "cell_type": "code",
      "metadata": {
        "id": "UBhWCNJ0i32w",
        "colab_type": "code",
        "colab": {}
      },
      "source": [
        "from sklearn.datasets import load_digits"
      ],
      "execution_count": 0,
      "outputs": []
    },
    {
      "cell_type": "code",
      "metadata": {
        "id": "Ws0GjVAcMHzO",
        "colab_type": "code",
        "colab": {}
      },
      "source": [
        "# loading digit data\n",
        "digit=load_digits()"
      ],
      "execution_count": 0,
      "outputs": []
    },
    {
      "cell_type": "code",
      "metadata": {
        "id": "bCYNQ311MNk_",
        "colab_type": "code",
        "outputId": "61f88f7e-3d29-4ebf-a076-207b9f8373de",
        "colab": {
          "base_uri": "https://localhost:8080/",
          "height": 34
        }
      },
      "source": [
        "# desc\n",
        "dir(digit)"
      ],
      "execution_count": 0,
      "outputs": [
        {
          "output_type": "execute_result",
          "data": {
            "text/plain": [
              "['DESCR', 'data', 'images', 'target', 'target_names']"
            ]
          },
          "metadata": {
            "tags": []
          },
          "execution_count": 45
        }
      ]
    },
    {
      "cell_type": "code",
      "metadata": {
        "id": "ceN49kjXMR94",
        "colab_type": "code",
        "outputId": "d1761424-2976-47f8-affd-ddce571b7043",
        "colab": {
          "base_uri": "https://localhost:8080/",
          "height": 134
        }
      },
      "source": [
        "features=digit.data\n",
        "features"
      ],
      "execution_count": 0,
      "outputs": [
        {
          "output_type": "execute_result",
          "data": {
            "text/plain": [
              "array([[ 0.,  0.,  5., ...,  0.,  0.,  0.],\n",
              "       [ 0.,  0.,  0., ..., 10.,  0.,  0.],\n",
              "       [ 0.,  0.,  0., ..., 16.,  9.,  0.],\n",
              "       ...,\n",
              "       [ 0.,  0.,  1., ...,  6.,  0.,  0.],\n",
              "       [ 0.,  0.,  2., ..., 12.,  0.,  0.],\n",
              "       [ 0.,  0., 10., ..., 12.,  1.,  0.]])"
            ]
          },
          "metadata": {
            "tags": []
          },
          "execution_count": 46
        }
      ]
    },
    {
      "cell_type": "code",
      "metadata": {
        "id": "LkEvp-QPMZj8",
        "colab_type": "code",
        "colab": {}
      },
      "source": [
        "label=digit.target"
      ],
      "execution_count": 0,
      "outputs": []
    },
    {
      "cell_type": "code",
      "metadata": {
        "id": "Fd3Hb43BMiNT",
        "colab_type": "code",
        "colab": {}
      },
      "source": [
        "from sklearn.model_selection import train_test_split\n",
        "X,x,Y,y=train_test_split(features,label,test_size=0.2)"
      ],
      "execution_count": 0,
      "outputs": []
    },
    {
      "cell_type": "code",
      "metadata": {
        "id": "RUc6ySVcM9jI",
        "colab_type": "code",
        "colab": {}
      },
      "source": [
        "import matplotlib.pyplot as plt"
      ],
      "execution_count": 0,
      "outputs": []
    },
    {
      "cell_type": "code",
      "metadata": {
        "id": "Ew-awr19NCzj",
        "colab_type": "code",
        "outputId": "78c4bfd8-6ebf-4919-8a2a-670cffb1b393",
        "colab": {
          "base_uri": "https://localhost:8080/",
          "height": 286
        }
      },
      "source": [
        "plt.imshow(digit.images[0])"
      ],
      "execution_count": 0,
      "outputs": [
        {
          "output_type": "execute_result",
          "data": {
            "text/plain": [
              "<matplotlib.image.AxesImage at 0x7ff0e7ce4358>"
            ]
          },
          "metadata": {
            "tags": []
          },
          "execution_count": 50
        },
        {
          "output_type": "display_data",
          "data": {
            "image/png": "[encoded data removed]",
            "text/plain": [
              "<Figure size 432x288 with 1 Axes>"
            ]
          },
          "metadata": {
            "tags": []
          }
        }
      ]
    },
    {
      "cell_type": "code",
      "metadata": {
        "id": "rEmUzAhhNK0l",
        "colab_type": "code",
        "colab": {}
      },
      "source": [
        "# now calling SVC\n",
        "from sklearn.svm import SVC"
      ],
      "execution_count": 0,
      "outputs": []
    },
    {
      "cell_type": "code",
      "metadata": {
        "id": "8qFcJ9iPNYqe",
        "colab_type": "code",
        "colab": {}
      },
      "source": [
        "# calling clf\n",
        "clf=SVC()"
      ],
      "execution_count": 0,
      "outputs": []
    },
    {
      "cell_type": "code",
      "metadata": {
        "id": "dJ42riugOZ3Y",
        "colab_type": "code",
        "outputId": "739e5be2-9e77-475d-b6b0-ac57584fc89c",
        "colab": {
          "base_uri": "https://localhost:8080/",
          "height": 70
        }
      },
      "source": [
        "# now trainng my classifier\n",
        "trained=clf.fit(X,Y)"
      ],
      "execution_count": 0,
      "outputs": [
        {
          "output_type": "stream",
          "text": [
            "/usr/local/lib/python3.6/dist-packages/sklearn/svm/base.py:193: FutureWarning: The default value of gamma will change from 'auto' to 'scale' in version 0.22 to account better for unscaled features. Set gamma explicitly to 'auto' or 'scale' to avoid this warning.\n",
            "  \"avoid this warning.\", FutureWarning)\n"
          ],
          "name": "stderr"
        }
      ]
    },
    {
      "cell_type": "code",
      "metadata": {
        "id": "Ob06KM4dPImG",
        "colab_type": "code",
        "colab": {}
      },
      "source": [
        "# now time for prediction\n",
        "output=trained.predict(x)"
      ],
      "execution_count": 0,
      "outputs": []
    },
    {
      "cell_type": "code",
      "metadata": {
        "id": "eCdc5WpWPSt_",
        "colab_type": "code",
        "outputId": "002400fb-0940-469f-9bf9-29564572f838",
        "colab": {
          "base_uri": "https://localhost:8080/",
          "height": 302
        }
      },
      "source": [
        "output"
      ],
      "execution_count": 0,
      "outputs": [
        {
          "output_type": "execute_result",
          "data": {
            "text/plain": [
              "array([7, 6, 8, 5, 5, 6, 5, 7, 5, 5, 5, 5, 5, 5, 5, 5, 5, 0, 5, 5, 5, 5,\n",
              "       5, 3, 5, 5, 5, 5, 2, 5, 0, 5, 5, 4, 1, 9, 5, 5, 0, 5, 5, 5, 5, 5,\n",
              "       5, 5, 5, 5, 3, 5, 5, 5, 5, 5, 4, 9, 8, 3, 5, 5, 5, 5, 5, 1, 5, 5,\n",
              "       0, 5, 5, 5, 5, 5, 1, 5, 5, 0, 8, 9, 5, 6, 5, 3, 4, 5, 9, 4, 5, 2,\n",
              "       8, 7, 5, 9, 2, 5, 1, 5, 1, 5, 1, 3, 5, 5, 5, 0, 5, 5, 5, 4, 5, 5,\n",
              "       9, 4, 5, 5, 5, 3, 5, 5, 5, 5, 5, 5, 7, 5, 0, 6, 0, 5, 5, 5, 5, 5,\n",
              "       6, 5, 9, 5, 5, 4, 5, 1, 5, 5, 8, 5, 5, 3, 6, 5, 5, 7, 5, 6, 4, 5,\n",
              "       5, 5, 5, 5, 5, 4, 8, 4, 5, 5, 9, 5, 5, 5, 5, 5, 5, 5, 5, 5, 9, 3,\n",
              "       9, 0, 4, 5, 5, 5, 1, 4, 5, 9, 5, 5, 5, 5, 5, 8, 5, 5, 6, 5, 7, 4,\n",
              "       5, 5, 5, 5, 5, 5, 9, 5, 5, 5, 5, 5, 5, 8, 5, 5, 5, 6, 3, 5, 3, 1,\n",
              "       3, 4, 5, 5, 5, 3, 5, 2, 6, 5, 5, 7, 3, 5, 6, 5, 9, 5, 4, 5, 5, 5,\n",
              "       5, 0, 9, 5, 3, 6, 9, 7, 5, 5, 9, 0, 5, 5, 5, 5, 6, 5, 5, 9, 7, 0,\n",
              "       5, 5, 0, 7, 3, 5, 5, 1, 5, 5, 5, 5, 5, 5, 5, 5, 4, 5, 5, 5, 5, 5,\n",
              "       3, 9, 3, 5, 9, 5, 6, 5, 1, 2, 5, 3, 5, 0, 2, 3, 6, 3, 0, 5, 5, 5,\n",
              "       5, 5, 5, 5, 1, 5, 5, 5, 5, 5, 5, 5, 5, 4, 3, 6, 3, 2, 6, 5, 1, 5,\n",
              "       3, 5, 5, 5, 5, 6, 5, 2, 9, 5, 3, 6, 7, 0, 9, 2, 5, 0, 2, 5, 5, 5,\n",
              "       5, 5, 6, 5, 5, 5, 5, 9])"
            ]
          },
          "metadata": {
            "tags": []
          },
          "execution_count": 55
        }
      ]
    },
    {
      "cell_type": "code",
      "metadata": {
        "id": "3YMmtY5sPTuz",
        "colab_type": "code",
        "outputId": "0796f556-8e6b-46e6-de6b-e1570861674d",
        "colab": {
          "base_uri": "https://localhost:8080/",
          "height": 302
        }
      },
      "source": [
        "y"
      ],
      "execution_count": 0,
      "outputs": [
        {
          "output_type": "execute_result",
          "data": {
            "text/plain": [
              "array([7, 6, 8, 6, 3, 6, 1, 7, 8, 5, 1, 5, 5, 9, 5, 0, 5, 0, 9, 3, 8, 1,\n",
              "       8, 3, 2, 7, 7, 0, 2, 7, 0, 0, 7, 4, 1, 9, 2, 3, 0, 5, 8, 4, 2, 5,\n",
              "       2, 2, 2, 4, 3, 2, 1, 7, 9, 4, 4, 9, 8, 3, 7, 8, 5, 2, 1, 1, 8, 4,\n",
              "       0, 7, 4, 1, 5, 2, 1, 6, 6, 0, 8, 9, 7, 6, 7, 3, 4, 5, 9, 4, 5, 2,\n",
              "       8, 7, 5, 9, 2, 1, 1, 4, 1, 1, 1, 3, 1, 3, 0, 0, 7, 5, 5, 4, 5, 7,\n",
              "       9, 4, 3, 8, 0, 3, 6, 5, 0, 7, 1, 6, 7, 4, 0, 6, 0, 0, 0, 5, 3, 6,\n",
              "       6, 6, 9, 0, 4, 4, 5, 1, 5, 7, 8, 7, 3, 3, 6, 2, 1, 7, 0, 6, 4, 6,\n",
              "       6, 0, 4, 1, 6, 4, 8, 4, 8, 2, 9, 5, 8, 5, 8, 8, 1, 1, 7, 0, 9, 3,\n",
              "       9, 0, 4, 1, 8, 4, 1, 4, 4, 9, 7, 4, 7, 2, 5, 8, 5, 5, 6, 1, 7, 4,\n",
              "       7, 8, 2, 6, 0, 7, 9, 5, 6, 5, 5, 5, 1, 8, 0, 4, 2, 6, 3, 6, 3, 1,\n",
              "       3, 4, 6, 9, 1, 3, 4, 2, 6, 8, 4, 7, 3, 2, 6, 2, 9, 4, 4, 4, 8, 0,\n",
              "       0, 0, 9, 5, 3, 6, 9, 7, 6, 8, 9, 0, 1, 0, 8, 2, 6, 4, 2, 9, 7, 0,\n",
              "       7, 5, 0, 7, 3, 1, 0, 1, 8, 6, 3, 1, 2, 0, 7, 8, 4, 9, 6, 8, 4, 6,\n",
              "       3, 9, 3, 2, 9, 4, 6, 0, 1, 2, 1, 3, 6, 0, 2, 3, 6, 3, 0, 1, 3, 1,\n",
              "       5, 2, 9, 0, 1, 4, 2, 6, 6, 1, 8, 1, 0, 4, 3, 6, 3, 2, 6, 8, 1, 3,\n",
              "       3, 7, 2, 5, 1, 6, 0, 2, 9, 9, 3, 6, 7, 0, 9, 2, 2, 0, 2, 4, 9, 7,\n",
              "       4, 1, 6, 7, 7, 8, 2, 9])"
            ]
          },
          "metadata": {
            "tags": []
          },
          "execution_count": 56
        }
      ]
    },
    {
      "cell_type": "code",
      "metadata": {
        "id": "EVJ_CtCAPZE7",
        "colab_type": "code",
        "colab": {}
      },
      "source": [
        "from sklearn.metrics import accuracy_score"
      ],
      "execution_count": 0,
      "outputs": []
    },
    {
      "cell_type": "code",
      "metadata": {
        "id": "PpA2oKhLPhxJ",
        "colab_type": "code",
        "outputId": "360ce7a2-84ee-4c57-9003-bc09b3b2fa0d",
        "colab": {
          "base_uri": "https://localhost:8080/",
          "height": 34
        }
      },
      "source": [
        "accuracy_score(output,y)"
      ],
      "execution_count": 0,
      "outputs": [
        {
          "output_type": "execute_result",
          "data": {
            "text/plain": [
              "0.48333333333333334"
            ]
          },
          "metadata": {
            "tags": []
          },
          "execution_count": 58
        }
      ]
    },
    {
      "cell_type": "code",
      "metadata": {
        "id": "gabBV_C-PnTZ",
        "colab_type": "code",
        "colab": {}
      },
      "source": [
        ""
      ],
      "execution_count": 0,
      "outputs": []
    }
  ]
}