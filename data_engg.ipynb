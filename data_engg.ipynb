{
  "nbformat": 4,
  "nbformat_minor": 0,
  "metadata": {
    "colab": {
      "name": "data_engg.ipynb",
      "version": "0.3.2",
      "provenance": [],
      "include_colab_link": true
    },
    "kernelspec": {
      "name": "python3",
      "display_name": "Python 3"
    }
  },
  "cells": [
    {
      "cell_type": "markdown",
      "metadata": {
        "id": "view-in-github",
        "colab_type": "text"
      },
      "source": [
        "<a href=\"https://colab.research.google.com/github/chiragmogra/ML-AI/blob/master/data_engg.ipynb\" target=\"_parent\"><img src=\"https://colab.research.google.com/assets/colab-badge.svg\" alt=\"Open In Colab\"/></a>"
      ]
    },
    {
      "cell_type": "code",
      "metadata": {
        "id": "Wbujjre9zEJZ",
        "colab_type": "code",
        "colab": {}
      },
      "source": [
        "import pandas as pd"
      ],
      "execution_count": 0,
      "outputs": []
    },
    {
      "cell_type": "code",
      "metadata": {
        "id": "TbqNDmqUzpso",
        "colab_type": "code",
        "colab": {}
      },
      "source": [
        "df = pd.read_csv('http://13.234.66.67/summer19/datasets/info.csv')"
      ],
      "execution_count": 0,
      "outputs": []
    },
    {
      "cell_type": "code",
      "metadata": {
        "id": "hekLzTljz4z9",
        "colab_type": "code",
        "outputId": "60f27a94-3190-4d56-c7ab-c300e8e24fa3",
        "colab": {
          "base_uri": "https://localhost:8080/",
          "height": 168
        }
      },
      "source": [
        "df.info()"
      ],
      "execution_count": 0,
      "outputs": [
        {
          "output_type": "stream",
          "text": [
            "<class 'pandas.core.frame.DataFrame'>\n",
            "RangeIndex: 10 entries, 0 to 9\n",
            "Data columns (total 4 columns):\n",
            "Country      10 non-null object\n",
            "Age          9 non-null float64\n",
            "Salary       9 non-null float64\n",
            "Purchased    10 non-null object\n",
            "dtypes: float64(2), object(2)\n",
            "memory usage: 400.0+ bytes\n"
          ],
          "name": "stdout"
        }
      ]
    },
    {
      "cell_type": "code",
      "metadata": {
        "id": "HXFmzr8kz6sb",
        "colab_type": "code",
        "outputId": "6de1aaed-dff4-41ce-d269-022bc7f5e0a3",
        "colab": {
          "base_uri": "https://localhost:8080/",
          "height": 343
        }
      },
      "source": [
        "df"
      ],
      "execution_count": 0,
      "outputs": [
        {
          "output_type": "execute_result",
          "data": {
            "text/html": [
              "<div>\n",
              "<style scoped>\n",
              "    .dataframe tbody tr th:only-of-type {\n",
              "        vertical-align: middle;\n",
              "    }\n",
              "\n",
              "    .dataframe tbody tr th {\n",
              "        vertical-align: top;\n",
              "    }\n",
              "\n",
              "    .dataframe thead th {\n",
              "        text-align: right;\n",
              "    }\n",
              "</style>\n",
              "<table border=\"1\" class=\"dataframe\">\n",
              "  <thead>\n",
              "    <tr style=\"text-align: right;\">\n",
              "      <th></th>\n",
              "      <th>Country</th>\n",
              "      <th>Age</th>\n",
              "      <th>Salary</th>\n",
              "      <th>Purchased</th>\n",
              "    </tr>\n",
              "  </thead>\n",
              "  <tbody>\n",
              "    <tr>\n",
              "      <th>0</th>\n",
              "      <td>France</td>\n",
              "      <td>44.0</td>\n",
              "      <td>72000.0</td>\n",
              "      <td>No</td>\n",
              "    </tr>\n",
              "    <tr>\n",
              "      <th>1</th>\n",
              "      <td>Spain</td>\n",
              "      <td>27.0</td>\n",
              "      <td>48000.0</td>\n",
              "      <td>Yes</td>\n",
              "    </tr>\n",
              "    <tr>\n",
              "      <th>2</th>\n",
              "      <td>Germany</td>\n",
              "      <td>30.0</td>\n",
              "      <td>54000.0</td>\n",
              "      <td>No</td>\n",
              "    </tr>\n",
              "    <tr>\n",
              "      <th>3</th>\n",
              "      <td>Spain</td>\n",
              "      <td>38.0</td>\n",
              "      <td>61000.0</td>\n",
              "      <td>No</td>\n",
              "    </tr>\n",
              "    <tr>\n",
              "      <th>4</th>\n",
              "      <td>Germany</td>\n",
              "      <td>40.0</td>\n",
              "      <td>NaN</td>\n",
              "      <td>Yes</td>\n",
              "    </tr>\n",
              "    <tr>\n",
              "      <th>5</th>\n",
              "      <td>France</td>\n",
              "      <td>35.0</td>\n",
              "      <td>58000.0</td>\n",
              "      <td>Yes</td>\n",
              "    </tr>\n",
              "    <tr>\n",
              "      <th>6</th>\n",
              "      <td>Spain</td>\n",
              "      <td>NaN</td>\n",
              "      <td>52000.0</td>\n",
              "      <td>No</td>\n",
              "    </tr>\n",
              "    <tr>\n",
              "      <th>7</th>\n",
              "      <td>France</td>\n",
              "      <td>48.0</td>\n",
              "      <td>79000.0</td>\n",
              "      <td>Yes</td>\n",
              "    </tr>\n",
              "    <tr>\n",
              "      <th>8</th>\n",
              "      <td>Germany</td>\n",
              "      <td>50.0</td>\n",
              "      <td>83000.0</td>\n",
              "      <td>No</td>\n",
              "    </tr>\n",
              "    <tr>\n",
              "      <th>9</th>\n",
              "      <td>France</td>\n",
              "      <td>37.0</td>\n",
              "      <td>67000.0</td>\n",
              "      <td>Yes</td>\n",
              "    </tr>\n",
              "  </tbody>\n",
              "</table>\n",
              "</div>"
            ],
            "text/plain": [
              "   Country   Age   Salary Purchased\n",
              "0   France  44.0  72000.0        No\n",
              "1    Spain  27.0  48000.0       Yes\n",
              "2  Germany  30.0  54000.0        No\n",
              "3    Spain  38.0  61000.0        No\n",
              "4  Germany  40.0      NaN       Yes\n",
              "5   France  35.0  58000.0       Yes\n",
              "6    Spain   NaN  52000.0        No\n",
              "7   France  48.0  79000.0       Yes\n",
              "8  Germany  50.0  83000.0        No\n",
              "9   France  37.0  67000.0       Yes"
            ]
          },
          "metadata": {
            "tags": []
          },
          "execution_count": 105
        }
      ]
    },
    {
      "cell_type": "code",
      "metadata": {
        "id": "paN1NNhB219S",
        "colab_type": "code",
        "outputId": "d21c3f90-d8b3-4b50-df24-ce0359c81ceb",
        "colab": {
          "base_uri": "https://localhost:8080/",
          "height": 185
        }
      },
      "source": [
        "x=df.iloc[:,0:].values\n",
        "x"
      ],
      "execution_count": 0,
      "outputs": [
        {
          "output_type": "execute_result",
          "data": {
            "text/plain": [
              "array([['France', 44.0, 72000.0, 'No'],\n",
              "       ['Spain', 27.0, 48000.0, 'Yes'],\n",
              "       ['Germany', 30.0, 54000.0, 'No'],\n",
              "       ['Spain', 38.0, 61000.0, 'No'],\n",
              "       ['Germany', 40.0, nan, 'Yes'],\n",
              "       ['France', 35.0, 58000.0, 'Yes'],\n",
              "       ['Spain', nan, 52000.0, 'No'],\n",
              "       ['France', 48.0, 79000.0, 'Yes'],\n",
              "       ['Germany', 50.0, 83000.0, 'No'],\n",
              "       ['France', 37.0, 67000.0, 'Yes']], dtype=object)"
            ]
          },
          "metadata": {
            "tags": []
          },
          "execution_count": 106
        }
      ]
    },
    {
      "cell_type": "code",
      "metadata": {
        "id": "uxTI6qej0DDI",
        "colab_type": "code",
        "colab": {}
      },
      "source": [
        " #  removing missing value or replacing missing value with some relevent data\n",
        "  #df.describe()\n",
        "from sklearn.preprocessing import Imputer"
      ],
      "execution_count": 0,
      "outputs": []
    },
    {
      "cell_type": "code",
      "metadata": {
        "id": "21L9HEau0mCR",
        "colab_type": "code",
        "outputId": "df6ab69c-b723-48b1-f9e6-0a52f354dedf",
        "colab": {
          "base_uri": "https://localhost:8080/",
          "height": 70
        }
      },
      "source": [
        "imp=Imputer(missing_values='NaN',axis=0,strategy='mean')"
      ],
      "execution_count": 0,
      "outputs": [
        {
          "output_type": "stream",
          "text": [
            "/usr/local/lib/python3.6/dist-packages/sklearn/utils/deprecation.py:66: DeprecationWarning: Class Imputer is deprecated; Imputer was deprecated in version 0.20 and will be removed in 0.22. Import impute.SimpleImputer from sklearn instead.\n",
            "  warnings.warn(msg, category=DeprecationWarning)\n"
          ],
          "name": "stderr"
        }
      ]
    },
    {
      "cell_type": "code",
      "metadata": {
        "id": "aM1JtdUl16qH",
        "colab_type": "code",
        "colab": {}
      },
      "source": [
        "impute=imp.fit(x[:,1:3])         # this is only fitting of columns that we want to process"
      ],
      "execution_count": 0,
      "outputs": []
    },
    {
      "cell_type": "code",
      "metadata": {
        "id": "YGwaEQei2Vhw",
        "colab_type": "code",
        "colab": {}
      },
      "source": [
        "#time for transformung the fitted columns\n",
        "x[:,1:3]=impute.transform(x[:,1:3])"
      ],
      "execution_count": 0,
      "outputs": []
    },
    {
      "cell_type": "code",
      "metadata": {
        "id": "GKWN0QOR4kkN",
        "colab_type": "code",
        "outputId": "c5de643b-c5a4-4f0c-d0d8-f27b28f16fd5",
        "colab": {
          "base_uri": "https://localhost:8080/",
          "height": 185
        }
      },
      "source": [
        "x"
      ],
      "execution_count": 0,
      "outputs": [
        {
          "output_type": "execute_result",
          "data": {
            "text/plain": [
              "array([['France', 44.0, 72000.0, 'No'],\n",
              "       ['Spain', 27.0, 48000.0, 'Yes'],\n",
              "       ['Germany', 30.0, 54000.0, 'No'],\n",
              "       ['Spain', 38.0, 61000.0, 'No'],\n",
              "       ['Germany', 40.0, 63777.77777777778, 'Yes'],\n",
              "       ['France', 35.0, 58000.0, 'Yes'],\n",
              "       ['Spain', 38.77777777777778, 52000.0, 'No'],\n",
              "       ['France', 48.0, 79000.0, 'Yes'],\n",
              "       ['Germany', 50.0, 83000.0, 'No'],\n",
              "       ['France', 37.0, 67000.0, 'Yes']], dtype=object)"
            ]
          },
          "metadata": {
            "tags": []
          },
          "execution_count": 111
        }
      ]
    },
    {
      "cell_type": "code",
      "metadata": {
        "id": "QiK5-Eed4ldW",
        "colab_type": "code",
        "colab": {}
      },
      "source": [
        " #string label by int/float\n",
        "from sklearn.preprocessing import LabelEncoder\n"
      ],
      "execution_count": 0,
      "outputs": []
    },
    {
      "cell_type": "code",
      "metadata": {
        "id": "R6zZyt8i6rXh",
        "colab_type": "code",
        "colab": {}
      },
      "source": [
        "cont=LabelEncoder()     # this is for country labelling"
      ],
      "execution_count": 0,
      "outputs": []
    },
    {
      "cell_type": "code",
      "metadata": {
        "id": "Hd75c0Z-6u3J",
        "colab_type": "code",
        "colab": {}
      },
      "source": [
        "# now apply first column in this labelEn\n",
        "x[:,0]=cont.fit_transform(x[:,0])"
      ],
      "execution_count": 0,
      "outputs": []
    },
    {
      "cell_type": "code",
      "metadata": {
        "id": "Rt7CseIY69XQ",
        "colab_type": "code",
        "outputId": "7e8a3fa6-76f2-4ebf-eb8f-cbcdee21d85c",
        "colab": {
          "base_uri": "https://localhost:8080/",
          "height": 185
        }
      },
      "source": [
        "x"
      ],
      "execution_count": 0,
      "outputs": [
        {
          "output_type": "execute_result",
          "data": {
            "text/plain": [
              "array([[0, 44.0, 72000.0, 'No'],\n",
              "       [2, 27.0, 48000.0, 'Yes'],\n",
              "       [1, 30.0, 54000.0, 'No'],\n",
              "       [2, 38.0, 61000.0, 'No'],\n",
              "       [1, 40.0, 63777.77777777778, 'Yes'],\n",
              "       [0, 35.0, 58000.0, 'Yes'],\n",
              "       [2, 38.77777777777778, 52000.0, 'No'],\n",
              "       [0, 48.0, 79000.0, 'Yes'],\n",
              "       [1, 50.0, 83000.0, 'No'],\n",
              "       [0, 37.0, 67000.0, 'Yes']], dtype=object)"
            ]
          },
          "metadata": {
            "tags": []
          },
          "execution_count": 115
        }
      ]
    },
    {
      "cell_type": "code",
      "metadata": {
        "id": "0M8Z5zuA7Ntt",
        "colab_type": "code",
        "colab": {}
      },
      "source": [
        "# labelling last column\n",
        "p=LabelEncoder()"
      ],
      "execution_count": 0,
      "outputs": []
    },
    {
      "cell_type": "code",
      "metadata": {
        "id": "93GzO12Z70uP",
        "colab_type": "code",
        "colab": {}
      },
      "source": [
        "x[:,3]=p.fit_transform(x[:,3])"
      ],
      "execution_count": 0,
      "outputs": []
    },
    {
      "cell_type": "code",
      "metadata": {
        "id": "7-5xMwgc8CXa",
        "colab_type": "code",
        "outputId": "18fdffde-10f3-4c8d-f9b4-5c7344e73ee8",
        "colab": {
          "base_uri": "https://localhost:8080/",
          "height": 185
        }
      },
      "source": [
        "x"
      ],
      "execution_count": 0,
      "outputs": [
        {
          "output_type": "execute_result",
          "data": {
            "text/plain": [
              "array([[0, 44.0, 72000.0, 0],\n",
              "       [2, 27.0, 48000.0, 1],\n",
              "       [1, 30.0, 54000.0, 0],\n",
              "       [2, 38.0, 61000.0, 0],\n",
              "       [1, 40.0, 63777.77777777778, 1],\n",
              "       [0, 35.0, 58000.0, 1],\n",
              "       [2, 38.77777777777778, 52000.0, 0],\n",
              "       [0, 48.0, 79000.0, 1],\n",
              "       [1, 50.0, 83000.0, 0],\n",
              "       [0, 37.0, 67000.0, 1]], dtype=object)"
            ]
          },
          "metadata": {
            "tags": []
          },
          "execution_count": 118
        }
      ]
    },
    {
      "cell_type": "code",
      "metadata": {
        "id": "nkvkiDpm8C-N",
        "colab_type": "code",
        "colab": {}
      },
      "source": [
        "#  Noe encoding first column ------- making subcolumn of first column\n",
        "from sklearn.preprocessing import OneHotEncoder"
      ],
      "execution_count": 0,
      "outputs": []
    },
    {
      "cell_type": "code",
      "metadata": {
        "id": "45Hd2OOtCK11",
        "colab_type": "code",
        "colab": {}
      },
      "source": [
        "firstcol=OneHotEncoder(categorical_features=[0]) # identify exact column number where we want to make an catagory\n"
      ],
      "execution_count": 0,
      "outputs": []
    },
    {
      "cell_type": "code",
      "metadata": {
        "id": "_lziBzFTCHRX",
        "colab_type": "code",
        "outputId": "0a4e4b76-c056-4a0e-af76-cfebe56b5b39",
        "colab": {
          "base_uri": "https://localhost:8080/",
          "height": 138
        }
      },
      "source": [
        "x=firstcol.fit_transform(x).toarray()        # after transformation we need to convert in numpy array"
      ],
      "execution_count": 0,
      "outputs": [
        {
          "output_type": "stream",
          "text": [
            "/usr/local/lib/python3.6/dist-packages/sklearn/preprocessing/_encoders.py:415: FutureWarning: The handling of integer data will change in version 0.22. Currently, the categories are determined based on the range [0, max(values)], while in the future they will be determined based on the unique values.\n",
            "If you want the future behaviour and silence this warning, you can specify \"categories='auto'\".\n",
            "In case you used a LabelEncoder before this OneHotEncoder to convert the categories to integers, then you can now use the OneHotEncoder directly.\n",
            "  warnings.warn(msg, FutureWarning)\n",
            "/usr/local/lib/python3.6/dist-packages/sklearn/preprocessing/_encoders.py:451: DeprecationWarning: The 'categorical_features' keyword is deprecated in version 0.20 and will be removed in 0.22. You can use the ColumnTransformer instead.\n",
            "  \"use the ColumnTransformer instead.\", DeprecationWarning)\n"
          ],
          "name": "stderr"
        }
      ]
    },
    {
      "cell_type": "code",
      "metadata": {
        "id": "AzzEEc_NDxYD",
        "colab_type": "code",
        "outputId": "e1075fc6-0dd0-49a6-fb04-016fd9dcec34",
        "colab": {
          "base_uri": "https://localhost:8080/",
          "height": 185
        }
      },
      "source": [
        "x.astype(int)  "
      ],
      "execution_count": 0,
      "outputs": [
        {
          "output_type": "execute_result",
          "data": {
            "text/plain": [
              "array([[    1,     0,     0,    44, 72000,     0],\n",
              "       [    0,     0,     1,    27, 48000,     1],\n",
              "       [    0,     1,     0,    30, 54000,     0],\n",
              "       [    0,     0,     1,    38, 61000,     0],\n",
              "       [    0,     1,     0,    40, 63777,     1],\n",
              "       [    1,     0,     0,    35, 58000,     1],\n",
              "       [    0,     0,     1,    38, 52000,     0],\n",
              "       [    1,     0,     0,    48, 79000,     1],\n",
              "       [    0,     1,     0,    50, 83000,     0],\n",
              "       [    1,     0,     0,    37, 67000,     1]])"
            ]
          },
          "metadata": {
            "tags": []
          },
          "execution_count": 122
        }
      ]
    }
  ]
}