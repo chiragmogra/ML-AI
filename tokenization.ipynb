{
  "nbformat": 4,
  "nbformat_minor": 0,
  "metadata": {
    "colab": {
      "name": "tokenization.ipynb",
      "version": "0.3.2",
      "provenance": [],
      "collapsed_sections": [],
      "include_colab_link": true
    },
    "kernelspec": {
      "name": "python3",
      "display_name": "Python 3"
    }
  },
  "cells": [
    {
      "cell_type": "markdown",
      "metadata": {
        "id": "view-in-github",
        "colab_type": "text"
      },
      "source": [
        "<a href=\"https://colab.research.google.com/github/chiragmogra/ML-AI_assignments/blob/master/tokenization.ipynb\" target=\"_parent\"><img src=\"https://colab.research.google.com/assets/colab-badge.svg\" alt=\"Open In Colab\"/></a>"
      ]
    },
    {
      "cell_type": "code",
      "metadata": {
        "id": "nbAoz8jQQSqy",
        "colab_type": "code",
        "colab": {}
      },
      "source": [
        "msg='''\n",
        "hello everyone I am Chirag Mogra .\n",
        "I am from SKIT college.\n",
        "This code is about Tokenization.\n",
        "Is it work?\n",
        "'''"
      ],
      "execution_count": 0,
      "outputs": []
    },
    {
      "cell_type": "code",
      "metadata": {
        "id": "7wGPzRvdXZ1n",
        "colab_type": "code",
        "colab": {}
      },
      "source": [
        "from nltk.tokenize import sent_tokenize\n",
        "from nltk.tokenize import word_tokenize"
      ],
      "execution_count": 0,
      "outputs": []
    },
    {
      "cell_type": "code",
      "metadata": {
        "id": "kApL3tJZXvFQ",
        "colab_type": "code",
        "colab": {}
      },
      "source": [
        "# sentence tokenize\n",
        "sent = sent_tokenize(msg)"
      ],
      "execution_count": 0,
      "outputs": []
    },
    {
      "cell_type": "code",
      "metadata": {
        "id": "05g-xZHUX4J6",
        "colab_type": "code",
        "outputId": "5a5334ee-78b2-4d6e-9b33-f7578de1d035",
        "colab": {
          "base_uri": "https://localhost:8080/",
          "height": 84
        }
      },
      "source": [
        "sent"
      ],
      "execution_count": 15,
      "outputs": [
        {
          "output_type": "execute_result",
          "data": {
            "text/plain": [
              "['\\nhello everyone I am Chirag Mogra .',\n",
              " 'I am from SKIT college.',\n",
              " 'This code is about Tokenization.',\n",
              " 'Is it work?']"
            ]
          },
          "metadata": {
            "tags": []
          },
          "execution_count": 15
        }
      ]
    },
    {
      "cell_type": "code",
      "metadata": {
        "id": "BPuswmzUX8-3",
        "colab_type": "code",
        "outputId": "2167255d-f0ee-4a99-be7d-24e3fed91355",
        "colab": {
          "base_uri": "https://localhost:8080/",
          "height": 34
        }
      },
      "source": [
        "len(sent)"
      ],
      "execution_count": 16,
      "outputs": [
        {
          "output_type": "execute_result",
          "data": {
            "text/plain": [
              "4"
            ]
          },
          "metadata": {
            "tags": []
          },
          "execution_count": 16
        }
      ]
    },
    {
      "cell_type": "code",
      "metadata": {
        "id": "VEsrDpfsYDgm",
        "colab_type": "code",
        "colab": {}
      },
      "source": [
        "word=word_tokenize(msg)"
      ],
      "execution_count": 0,
      "outputs": []
    },
    {
      "cell_type": "code",
      "metadata": {
        "id": "c7ardOMgYXwl",
        "colab_type": "code",
        "outputId": "f16663bc-9df6-4957-a937-2991ece05a89",
        "colab": {
          "base_uri": "https://localhost:8080/",
          "height": 403
        }
      },
      "source": [
        "word"
      ],
      "execution_count": 18,
      "outputs": [
        {
          "output_type": "execute_result",
          "data": {
            "text/plain": [
              "['hello',\n",
              " 'everyone',\n",
              " 'I',\n",
              " 'am',\n",
              " 'Chirag',\n",
              " 'Mogra',\n",
              " '.',\n",
              " 'I',\n",
              " 'am',\n",
              " 'from',\n",
              " 'SKIT',\n",
              " 'college',\n",
              " '.',\n",
              " 'This',\n",
              " 'code',\n",
              " 'is',\n",
              " 'about',\n",
              " 'Tokenization',\n",
              " '.',\n",
              " 'Is',\n",
              " 'it',\n",
              " 'work',\n",
              " '?']"
            ]
          },
          "metadata": {
            "tags": []
          },
          "execution_count": 18
        }
      ]
    },
    {
      "cell_type": "code",
      "metadata": {
        "id": "83nn9s1gYZoO",
        "colab_type": "code",
        "outputId": "916f5f29-22dc-43b1-9a8e-8315e517f3cf",
        "colab": {
          "base_uri": "https://localhost:8080/",
          "height": 34
        }
      },
      "source": [
        "len(word)"
      ],
      "execution_count": 19,
      "outputs": [
        {
          "output_type": "execute_result",
          "data": {
            "text/plain": [
              "23"
            ]
          },
          "metadata": {
            "tags": []
          },
          "execution_count": 19
        }
      ]
    },
    {
      "cell_type": "code",
      "metadata": {
        "id": "jNenu1uPYbbD",
        "colab_type": "code",
        "colab": {}
      },
      "source": [
        "from nltk.corpus import stopwords"
      ],
      "execution_count": 0,
      "outputs": []
    },
    {
      "cell_type": "code",
      "metadata": {
        "id": "QabnmERZYwgN",
        "colab_type": "code",
        "colab": {}
      },
      "source": [
        " # remove stopwords from actual word\n",
        "new_words=[i for i in word if i.lower not in stopwords.words('english')]"
      ],
      "execution_count": 0,
      "outputs": []
    },
    {
      "cell_type": "code",
      "metadata": {
        "id": "LqkIbWmEZN0_",
        "colab_type": "code",
        "outputId": "4ce49832-f3fb-4246-ba34-01a8a6667f79",
        "colab": {
          "base_uri": "https://localhost:8080/",
          "height": 34
        }
      },
      "source": [
        "len(new_words)"
      ],
      "execution_count": 22,
      "outputs": [
        {
          "output_type": "execute_result",
          "data": {
            "text/plain": [
              "23"
            ]
          },
          "metadata": {
            "tags": []
          },
          "execution_count": 22
        }
      ]
    },
    {
      "cell_type": "code",
      "metadata": {
        "id": "lOXXEloyZQ-F",
        "colab_type": "code",
        "colab": {}
      },
      "source": [
        "import nltk\n",
        "import matplotlib.pyplot as plt"
      ],
      "execution_count": 0,
      "outputs": []
    },
    {
      "cell_type": "code",
      "metadata": {
        "id": "xETu69l-ZZPi",
        "colab_type": "code",
        "outputId": "4f31bd8b-0cdf-4c18-bee6-9bc87763afd0",
        "colab": {
          "base_uri": "https://localhost:8080/",
          "height": 336
        }
      },
      "source": [
        "nlp=nltk.FreqDist(word)\n",
        "nlp.plot()   # plot in actual words"
      ],
      "execution_count": 26,
      "outputs": [
        {
          "output_type": "display_data",
          "data": {
            "image/png": "[encoded data removed]",
            "text/plain": [
              "<Figure size 432x288 with 1 Axes>"
            ]
          },
          "metadata": {
            "tags": []
          }
        }
      ]
    }
  ]
}